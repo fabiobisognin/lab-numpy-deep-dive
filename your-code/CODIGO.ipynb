{
 "cells": [
  {
   "cell_type": "markdown",
   "metadata": {},
   "source": [
    "1. Import the NUMPY package under the name np."
   ]
  },
  {
   "cell_type": "code",
   "execution_count": 39,
   "metadata": {},
   "outputs": [],
   "source": [
    "import numpy as np"
   ]
  },
  {
   "cell_type": "markdown",
   "metadata": {},
   "source": [
    "2. Print the NUMPY version and the configuration.\n"
   ]
  },
  {
   "cell_type": "code",
   "execution_count": 40,
   "metadata": {},
   "outputs": [
    {
     "name": "stdout",
     "output_type": "stream",
     "text": [
      "1.18.5\n"
     ]
    }
   ],
   "source": [
    "print(np.version.version)"
   ]
  },
  {
   "cell_type": "markdown",
   "metadata": {},
   "source": [
    "Generate a 2x3x5 3-dimensional array with random values. Assign the array to variable \"a\"\n",
    "Challenge: there are at least three easy ways that use numpy to generate random arrays. How many ways can you find?"
   ]
  },
  {
   "cell_type": "code",
   "execution_count": 41,
   "metadata": {},
   "outputs": [],
   "source": [
    "a = np.random.random((2,3,5))"
   ]
  },
  {
   "cell_type": "markdown",
   "metadata": {},
   "source": [
    "4. Print a."
   ]
  },
  {
   "cell_type": "code",
   "execution_count": 42,
   "metadata": {},
   "outputs": [
    {
     "name": "stdout",
     "output_type": "stream",
     "text": [
      "[[[0.33038225 0.09296967 0.82405559 0.98975662 0.0232991 ]\n",
      "  [0.72120805 0.08249128 0.7125055  0.87177313 0.42152495]\n",
      "  [0.49753377 0.18323718 0.78801142 0.23223983 0.94510809]]\n",
      "\n",
      " [[0.92737587 0.95396093 0.36883418 0.86260319 0.97136546]\n",
      "  [0.71200605 0.24096946 0.99892088 0.32348358 0.92975577]\n",
      "  [0.9021848  0.22237213 0.38836638 0.28217472 0.28941192]]]\n"
     ]
    }
   ],
   "source": [
    "print(a)"
   ]
  },
  {
   "cell_type": "markdown",
   "metadata": {},
   "source": [
    "5. Create a 5x2x3 3-dimensional array with all values equaling 1.\n",
    "Assign the array to variable \"b\""
   ]
  },
  {
   "cell_type": "code",
   "execution_count": 43,
   "metadata": {},
   "outputs": [],
   "source": [
    "b = np.random.random((5, 2, 3))"
   ]
  },
  {
   "cell_type": "markdown",
   "metadata": {},
   "source": [
    "6. Print b."
   ]
  },
  {
   "cell_type": "code",
   "execution_count": 44,
   "metadata": {},
   "outputs": [
    {
     "name": "stdout",
     "output_type": "stream",
     "text": [
      "[[[0.62122729 0.48269439 0.90021739]\n",
      "  [0.62649639 0.29130285 0.34769654]]\n",
      "\n",
      " [[0.48887998 0.01247028 0.52282645]\n",
      "  [0.3067451  0.2103139  0.59784317]]\n",
      "\n",
      " [[0.07322307 0.32944241 0.7966676 ]\n",
      "  [0.20338823 0.03439992 0.80298604]]\n",
      "\n",
      " [[0.36689396 0.59291404 0.04691133]\n",
      "  [0.49756223 0.74291493 0.90228138]]\n",
      "\n",
      " [[0.51988739 0.74441638 0.794459  ]\n",
      "  [0.27171151 0.37847914 0.57326021]]]\n"
     ]
    }
   ],
   "source": [
    "print(b)"
   ]
  },
  {
   "cell_type": "markdown",
   "metadata": {},
   "source": [
    "7. Do a and b have the same size? How do you prove that in Python code?"
   ]
  },
  {
   "cell_type": "code",
   "execution_count": 45,
   "metadata": {},
   "outputs": [
    {
     "data": {
      "text/plain": [
       "30"
      ]
     },
     "execution_count": 45,
     "metadata": {},
     "output_type": "execute_result"
    }
   ],
   "source": [
    "len(a.flatten())"
   ]
  },
  {
   "cell_type": "code",
   "execution_count": 46,
   "metadata": {},
   "outputs": [
    {
     "data": {
      "text/plain": [
       "30"
      ]
     },
     "execution_count": 46,
     "metadata": {},
     "output_type": "execute_result"
    }
   ],
   "source": [
    "len(b.flatten())"
   ]
  },
  {
   "cell_type": "markdown",
   "metadata": {},
   "source": [
    "8. Are you able to add a and b? Why or why not?"
   ]
  },
  {
   "cell_type": "code",
   "execution_count": 47,
   "metadata": {},
   "outputs": [],
   "source": [
    "#No, because the structure is not the same"
   ]
  },
  {
   "cell_type": "markdown",
   "metadata": {},
   "source": [
    "9. Transpose b so that it has the same structure of a (i.e. become a 2x3x5 array). Assign the transposed array to varialbe \"c\"."
   ]
  },
  {
   "cell_type": "code",
   "execution_count": 48,
   "metadata": {},
   "outputs": [],
   "source": [
    "c= a.reshape((2, 3, 5))"
   ]
  },
  {
   "cell_type": "markdown",
   "metadata": {},
   "source": [
    "10. Try to add a and c. Now it should work. Assign the sum to varialbe \"d\". But why does it work now?"
   ]
  },
  {
   "cell_type": "code",
   "execution_count": 49,
   "metadata": {},
   "outputs": [],
   "source": [
    "d = a+c"
   ]
  },
  {
   "cell_type": "markdown",
   "metadata": {},
   "source": [
    "11. Print a and d. Notice the difference and relation of the two array in terms of the values? Explain."
   ]
  },
  {
   "cell_type": "code",
   "execution_count": 50,
   "metadata": {},
   "outputs": [
    {
     "name": "stdout",
     "output_type": "stream",
     "text": [
      "[[[0.66076449 0.18593934 1.64811118 1.97951325 0.0465982 ]\n",
      "  [1.4424161  0.16498256 1.42501099 1.74354625 0.84304991]\n",
      "  [0.99506754 0.36647437 1.57602283 0.46447966 1.89021618]]\n",
      "\n",
      " [[1.85475175 1.90792186 0.73766835 1.72520638 1.94273091]\n",
      "  [1.42401209 0.48193893 1.99784176 0.64696717 1.85951153]\n",
      "  [1.80436961 0.44474426 0.77673275 0.56434945 0.57882384]]]\n"
     ]
    }
   ],
   "source": [
    "print(d)"
   ]
  },
  {
   "cell_type": "markdown",
   "metadata": {},
   "source": [
    "12. Multiply a and c. Assign the result to e."
   ]
  },
  {
   "cell_type": "code",
   "execution_count": 51,
   "metadata": {},
   "outputs": [],
   "source": [
    "e = np.multiply(a, c)"
   ]
  },
  {
   "cell_type": "code",
   "execution_count": 52,
   "metadata": {},
   "outputs": [
    {
     "name": "stdout",
     "output_type": "stream",
     "text": [
      "[[[1.09152428e-01 8.64335973e-03 6.79067614e-01 9.79618176e-01\n",
      "   5.42847984e-04]\n",
      "  [5.20141053e-01 6.80481147e-03 5.07664081e-01 7.59988383e-01\n",
      "   1.77683287e-01]\n",
      "  [2.47539851e-01 3.35758654e-02 6.20961990e-01 5.39353387e-02\n",
      "   8.93229302e-01]]\n",
      "\n",
      " [[8.60026012e-01 9.10041453e-01 1.36038650e-01 7.44084267e-01\n",
      "   9.43550852e-01]\n",
      "  [5.06952609e-01 5.80662829e-02 9.97842929e-01 1.04641629e-01\n",
      "   8.64445786e-01]\n",
      "  [8.13937419e-01 4.94493631e-02 1.50828442e-01 7.96225743e-02\n",
      "   8.37592608e-02]]]\n"
     ]
    }
   ],
   "source": [
    "print(e)"
   ]
  },
  {
   "cell_type": "markdown",
   "metadata": {},
   "source": [
    "13. Does e equal to a? Why or why not?"
   ]
  },
  {
   "cell_type": "code",
   "execution_count": 53,
   "metadata": {},
   "outputs": [],
   "source": [
    "#No, because the product of a mult is diff than a sum"
   ]
  },
  {
   "cell_type": "markdown",
   "metadata": {},
   "source": [
    "14. Identify the max, min, and mean values in d. Assign those values to variables \"d_max\", \"d_min\", and \"d_mean\""
   ]
  },
  {
   "cell_type": "code",
   "execution_count": 54,
   "metadata": {},
   "outputs": [
    {
     "data": {
      "text/plain": [
       "1.9978417648288036"
      ]
     },
     "execution_count": 54,
     "metadata": {},
     "output_type": "execute_result"
    }
   ],
   "source": [
    "d.max()"
   ]
  },
  {
   "cell_type": "code",
   "execution_count": 55,
   "metadata": {},
   "outputs": [
    {
     "data": {
      "text/plain": [
       "0.04659819670621257"
      ]
     },
     "execution_count": 55,
     "metadata": {},
     "output_type": "execute_result"
    }
   ],
   "source": [
    "d.min()"
   ]
  },
  {
   "cell_type": "markdown",
   "metadata": {},
   "source": [
    "15. Now we want to label the values in d. First create an empty array \"f\" with the same shape (i.e. 2x3x5) as d using `np.empty`."
   ]
  },
  {
   "cell_type": "code",
   "execution_count": 56,
   "metadata": {},
   "outputs": [
    {
     "name": "stdout",
     "output_type": "stream",
     "text": [
      "[[[1.09152428e-01 8.64335973e-03 6.79067614e-01 9.79618176e-01\n",
      "   5.42847984e-04]\n",
      "  [5.20141053e-01 6.80481147e-03 5.07664081e-01 7.59988383e-01\n",
      "   1.77683287e-01]\n",
      "  [2.47539851e-01 3.35758654e-02 6.20961990e-01 5.39353387e-02\n",
      "   8.93229302e-01]]\n",
      "\n",
      " [[8.60026012e-01 9.10041453e-01 1.36038650e-01 7.44084267e-01\n",
      "   9.43550852e-01]\n",
      "  [5.06952609e-01 5.80662829e-02 9.97842929e-01 1.04641629e-01\n",
      "   8.64445786e-01]\n",
      "  [8.13937419e-01 4.94493631e-02 1.50828442e-01 7.96225743e-02\n",
      "   8.37592608e-02]]]\n"
     ]
    }
   ],
   "source": [
    "f = np.empty([2, 3, 5])\n",
    "print(f)"
   ]
  },
  {
   "cell_type": "markdown",
   "metadata": {},
   "source": [
    "16. Populate the values in f. For each value in d, if it's larger than d_min but smaller than d_mean, assign 25 to the corresponding value in f.\n",
    "If a value in d is larger than d_mean but smaller than d_max, assign 75 to the corresponding value in f.\n",
    "If a value equals to d_mean, assign 50 to the corresponding value in f.\n",
    "Assign 0 to the corresponding value(s) in f for d_min in d.\n",
    "Assign 100 to the corresponding value(s) in f for d_max in d.\n",
    "In the end, f should have only the following values: 0, 25, 50, 75, and 100.\n",
    "Note: you don't have to use Numpy in this question."
   ]
  },
  {
   "cell_type": "code",
   "execution_count": 78,
   "metadata": {},
   "outputs": [],
   "source": [
    "d_mean=np.mean(d)\n",
    "d_max= np.max(d)\n",
    "d_min= np.min(d)"
   ]
  },
  {
   "cell_type": "code",
   "execution_count": 79,
   "metadata": {},
   "outputs": [
    {
     "name": "stdout",
     "output_type": "stream",
     "text": [
      "[0.66076449 0.18593934 1.64811118 1.97951325 0.0465982  1.4424161\n",
      " 0.16498256 1.42501099 1.74354625 0.84304991 0.99506754 0.36647437\n",
      " 1.57602283 0.46447966 1.89021618 1.85475175 1.90792186 0.73766835\n",
      " 1.72520638 1.94273091 1.42401209 0.48193893 1.99784176 0.64696717\n",
      " 1.85951153 1.80436961 0.44474426 0.77673275 0.56434945 0.57882384]\n"
     ]
    }
   ],
   "source": [
    "dd= d.flatten()\n",
    "print(dd)"
   ]
  },
  {
   "cell_type": "code",
   "execution_count": 119,
   "metadata": {},
   "outputs": [
    {
     "name": "stdout",
     "output_type": "stream",
     "text": [
      "25\n",
      "25\n",
      "75\n",
      "75\n",
      "0\n",
      "75\n",
      "25\n",
      "75\n",
      "75\n",
      "25\n",
      "25\n",
      "25\n",
      "75\n",
      "25\n",
      "75\n",
      "75\n",
      "75\n",
      "25\n",
      "75\n",
      "75\n",
      "75\n",
      "25\n",
      "100\n",
      "25\n",
      "75\n",
      "75\n",
      "25\n",
      "25\n",
      "25\n",
      "25\n"
     ]
    }
   ],
   "source": [
    "def fil(x):\n",
    "    if x == d_max:\n",
    "        print(100)\n",
    "    if x < d_max and x >d_mean:\n",
    "        print(75)\n",
    "    if x == d_mean:\n",
    "        print(50)\n",
    "    if x == d_min:\n",
    "        print(0)\n",
    "    elif x > d_min and x < d_mean:\n",
    "        print(25)\n",
    "\n",
    "appen = list(filter(fil, dd))"
   ]
  },
  {
   "cell_type": "code",
   "execution_count": 118,
   "metadata": {},
   "outputs": [
    {
     "data": {
      "text/plain": [
       "array([], dtype=float64)"
      ]
     },
     "execution_count": 118,
     "metadata": {},
     "output_type": "execute_result"
    }
   ],
   "source": [
    "f = np.asarray(appen)\n",
    "f"
   ]
  },
  {
   "cell_type": "code",
   "execution_count": null,
   "metadata": {},
   "outputs": [],
   "source": []
  },
  {
   "cell_type": "code",
   "execution_count": null,
   "metadata": {},
   "outputs": [],
   "source": []
  }
 ],
 "metadata": {
  "kernelspec": {
   "display_name": "Python 3",
   "language": "python",
   "name": "python3"
  },
  "language_info": {
   "codemirror_mode": {
    "name": "ipython",
    "version": 3
   },
   "file_extension": ".py",
   "mimetype": "text/x-python",
   "name": "python",
   "nbconvert_exporter": "python",
   "pygments_lexer": "ipython3",
   "version": "3.8.3"
  }
 },
 "nbformat": 4,
 "nbformat_minor": 4
}
