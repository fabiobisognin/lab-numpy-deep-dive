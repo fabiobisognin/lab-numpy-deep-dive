{
 "cells": [
  {
   "cell_type": "markdown",
   "metadata": {},
   "source": [
    "1. Import the NUMPY package under the name np."
   ]
  },
  {
   "cell_type": "code",
   "execution_count": 3,
   "metadata": {},
   "outputs": [],
   "source": [
    "import numpy as np"
   ]
  },
  {
   "cell_type": "markdown",
   "metadata": {},
   "source": [
    "2. Print the NUMPY version and the configuration.\n"
   ]
  },
  {
   "cell_type": "code",
   "execution_count": 4,
   "metadata": {},
   "outputs": [
    {
     "name": "stdout",
     "output_type": "stream",
     "text": [
      "1.18.5\n"
     ]
    }
   ],
   "source": [
    "print(np.version.version)"
   ]
  },
  {
   "cell_type": "markdown",
   "metadata": {},
   "source": [
    "Generate a 2x3x5 3-dimensional array with random values. Assign the array to variable \"a\"\n",
    "Challenge: there are at least three easy ways that use numpy to generate random arrays. How many ways can you find?"
   ]
  },
  {
   "cell_type": "code",
   "execution_count": 5,
   "metadata": {},
   "outputs": [],
   "source": [
    "a = np.random.random((2,3,5))"
   ]
  },
  {
   "cell_type": "markdown",
   "metadata": {},
   "source": [
    "4. Print a."
   ]
  },
  {
   "cell_type": "code",
   "execution_count": 6,
   "metadata": {},
   "outputs": [
    {
     "name": "stdout",
     "output_type": "stream",
     "text": [
      "[[[0.64492988 0.5455964  0.94127303 0.82236419 0.20295164]\n",
      "  [0.88014714 0.92370032 0.09171788 0.63699742 0.38484643]\n",
      "  [0.24273257 0.70606966 0.37305633 0.69331161 0.16189039]]\n",
      "\n",
      " [[0.04347948 0.13605696 0.98121924 0.48309817 0.30062172]\n",
      "  [0.00500647 0.23139894 0.43959202 0.75985554 0.98666823]\n",
      "  [0.87274441 0.7807905  0.83774333 0.46527685 0.09322175]]]\n"
     ]
    }
   ],
   "source": [
    "print(a)"
   ]
  },
  {
   "cell_type": "markdown",
   "metadata": {},
   "source": [
    "5. Create a 5x2x3 3-dimensional array with all values equaling 1.\n",
    "Assign the array to variable \"b\""
   ]
  },
  {
   "cell_type": "code",
   "execution_count": 7,
   "metadata": {},
   "outputs": [],
   "source": [
    "b = np.random.random((5, 2, 3))"
   ]
  },
  {
   "cell_type": "markdown",
   "metadata": {},
   "source": [
    "6. Print b."
   ]
  },
  {
   "cell_type": "code",
   "execution_count": 8,
   "metadata": {},
   "outputs": [
    {
     "name": "stdout",
     "output_type": "stream",
     "text": [
      "[[[0.25291589 0.69920507 0.7677517 ]\n",
      "  [0.17152327 0.88673094 0.43988265]]\n",
      "\n",
      " [[0.33948334 0.50338347 0.73804363]\n",
      "  [0.84250557 0.10044532 0.38016583]]\n",
      "\n",
      " [[0.23443425 0.06472388 0.882294  ]\n",
      "  [0.98309753 0.76606622 0.39768486]]\n",
      "\n",
      " [[0.66146727 0.91766097 0.57282532]\n",
      "  [0.92746867 0.77128531 0.23369347]]\n",
      "\n",
      " [[0.95608481 0.73495815 0.38026499]\n",
      "  [0.60677279 0.46160937 0.64070316]]]\n"
     ]
    }
   ],
   "source": [
    "print(b)"
   ]
  },
  {
   "cell_type": "markdown",
   "metadata": {},
   "source": [
    "7. Do a and b have the same size? How do you prove that in Python code?"
   ]
  },
  {
   "cell_type": "code",
   "execution_count": 9,
   "metadata": {},
   "outputs": [
    {
     "data": {
      "text/plain": [
       "30"
      ]
     },
     "execution_count": 9,
     "metadata": {},
     "output_type": "execute_result"
    }
   ],
   "source": [
    "len(a.flatten())"
   ]
  },
  {
   "cell_type": "code",
   "execution_count": 10,
   "metadata": {},
   "outputs": [
    {
     "data": {
      "text/plain": [
       "30"
      ]
     },
     "execution_count": 10,
     "metadata": {},
     "output_type": "execute_result"
    }
   ],
   "source": [
    "len(b.flatten())"
   ]
  },
  {
   "cell_type": "markdown",
   "metadata": {},
   "source": [
    "8. Are you able to add a and b? Why or why not?"
   ]
  },
  {
   "cell_type": "code",
   "execution_count": 11,
   "metadata": {},
   "outputs": [],
   "source": [
    "#No, because the structure is not the same"
   ]
  },
  {
   "cell_type": "markdown",
   "metadata": {},
   "source": [
    "9. Transpose b so that it has the same structure of a (i.e. become a 2x3x5 array). Assign the transposed array to varialbe \"c\"."
   ]
  },
  {
   "cell_type": "code",
   "execution_count": 12,
   "metadata": {},
   "outputs": [],
   "source": [
    "c= a.reshape((2, 3, 5))"
   ]
  },
  {
   "cell_type": "markdown",
   "metadata": {},
   "source": [
    "10. Try to add a and c. Now it should work. Assign the sum to varialbe \"d\". But why does it work now?"
   ]
  },
  {
   "cell_type": "code",
   "execution_count": 13,
   "metadata": {},
   "outputs": [],
   "source": [
    "d = a+c"
   ]
  },
  {
   "cell_type": "markdown",
   "metadata": {},
   "source": [
    "11. Print a and d. Notice the difference and relation of the two array in terms of the values? Explain."
   ]
  },
  {
   "cell_type": "code",
   "execution_count": 14,
   "metadata": {},
   "outputs": [
    {
     "name": "stdout",
     "output_type": "stream",
     "text": [
      "[[[1.28985976 1.09119281 1.88254607 1.64472837 0.40590329]\n",
      "  [1.76029428 1.84740065 0.18343577 1.27399484 0.76969285]\n",
      "  [0.48546514 1.41213932 0.74611266 1.38662321 0.32378078]]\n",
      "\n",
      " [[0.08695896 0.27211392 1.96243848 0.96619634 0.60124344]\n",
      "  [0.01001294 0.46279788 0.87918405 1.51971108 1.97333646]\n",
      "  [1.74548881 1.561581   1.67548665 0.93055369 0.1864435 ]]]\n"
     ]
    }
   ],
   "source": [
    "print(d)"
   ]
  },
  {
   "cell_type": "markdown",
   "metadata": {},
   "source": [
    "12. Multiply a and c. Assign the result to e."
   ]
  },
  {
   "cell_type": "code",
   "execution_count": 15,
   "metadata": {},
   "outputs": [],
   "source": [
    "e = np.multiply(a, c)"
   ]
  },
  {
   "cell_type": "code",
   "execution_count": 16,
   "metadata": {},
   "outputs": [
    {
     "name": "stdout",
     "output_type": "stream",
     "text": [
      "[[[4.15934553e-01 2.97675435e-01 8.85994925e-01 6.76282856e-01\n",
      "   4.11893698e-02]\n",
      "  [7.74658989e-01 8.53222288e-01 8.41217038e-03 4.05765714e-01\n",
      "   1.48106772e-01]\n",
      "  [5.89191003e-02 4.98534364e-01 1.39171026e-01 4.80680982e-01\n",
      "   2.62084986e-02]]\n",
      "\n",
      " [[1.89046540e-03 1.85114960e-02 9.62791196e-01 2.33383840e-01\n",
      "   9.03734172e-02]\n",
      "  [2.50647403e-05 5.35454692e-02 1.93241148e-01 5.77380441e-01\n",
      "   9.73514196e-01]\n",
      "  [7.61682801e-01 6.09633807e-01 7.01813879e-01 2.16482543e-01\n",
      "   8.69029430e-03]]]\n"
     ]
    }
   ],
   "source": [
    "print(e)"
   ]
  },
  {
   "cell_type": "markdown",
   "metadata": {},
   "source": [
    "13. Does e equal to a? Why or why not?"
   ]
  },
  {
   "cell_type": "code",
   "execution_count": 17,
   "metadata": {},
   "outputs": [],
   "source": [
    "#No, because the product of a mult is diff than a sum"
   ]
  },
  {
   "cell_type": "markdown",
   "metadata": {},
   "source": [
    "14. Identify the max, min, and mean values in d. Assign those values to variables \"d_max\", \"d_min\", and \"d_mean\""
   ]
  },
  {
   "cell_type": "code",
   "execution_count": 18,
   "metadata": {},
   "outputs": [
    {
     "data": {
      "text/plain": [
       "1.9733364597377694"
      ]
     },
     "execution_count": 18,
     "metadata": {},
     "output_type": "execute_result"
    }
   ],
   "source": [
    "d.max()"
   ]
  },
  {
   "cell_type": "code",
   "execution_count": 19,
   "metadata": {},
   "outputs": [
    {
     "data": {
      "text/plain": [
       "0.010012939686329103"
      ]
     },
     "execution_count": 19,
     "metadata": {},
     "output_type": "execute_result"
    }
   ],
   "source": [
    "d.min()"
   ]
  },
  {
   "cell_type": "markdown",
   "metadata": {},
   "source": [
    "15. Now we want to label the values in d. First create an empty array \"f\" with the same shape (i.e. 2x3x5) as d using `np.empty`."
   ]
  },
  {
   "cell_type": "code",
   "execution_count": 20,
   "metadata": {},
   "outputs": [
    {
     "name": "stdout",
     "output_type": "stream",
     "text": [
      "[[[4.15934553e-01 2.97675435e-01 8.85994925e-01 6.76282856e-01\n",
      "   4.11893698e-02]\n",
      "  [7.74658989e-01 8.53222288e-01 8.41217038e-03 4.05765714e-01\n",
      "   1.48106772e-01]\n",
      "  [5.89191003e-02 4.98534364e-01 1.39171026e-01 4.80680982e-01\n",
      "   2.62084986e-02]]\n",
      "\n",
      " [[1.89046540e-03 1.85114960e-02 9.62791196e-01 2.33383840e-01\n",
      "   9.03734172e-02]\n",
      "  [2.50647403e-05 5.35454692e-02 1.93241148e-01 5.77380441e-01\n",
      "   9.73514196e-01]\n",
      "  [7.61682801e-01 6.09633807e-01 7.01813879e-01 2.16482543e-01\n",
      "   8.69029430e-03]]]\n"
     ]
    }
   ],
   "source": [
    "f = np.empty([2, 3, 5])\n",
    "print(f)"
   ]
  },
  {
   "cell_type": "markdown",
   "metadata": {},
   "source": [
    "16. Populate the values in f. For each value in d, if it's larger than d_min but smaller than d_mean, assign 25 to the corresponding value in f.\n",
    "If a value in d is larger than d_mean but smaller than d_max, assign 75 to the corresponding value in f.\n",
    "If a value equals to d_mean, assign 50 to the corresponding value in f.\n",
    "Assign 0 to the corresponding value(s) in f for d_min in d.\n",
    "Assign 100 to the corresponding value(s) in f for d_max in d.\n",
    "In the end, f should have only the following values: 0, 25, 50, 75, and 100.\n",
    "Note: you don't have to use Numpy in this question."
   ]
  },
  {
   "cell_type": "code",
   "execution_count": 21,
   "metadata": {},
   "outputs": [],
   "source": [
    "d_mean=np.mean(d)\n",
    "d_max= np.max(d)\n",
    "d_min= np.min(d)"
   ]
  },
  {
   "cell_type": "code",
   "execution_count": 22,
   "metadata": {},
   "outputs": [
    {
     "name": "stdout",
     "output_type": "stream",
     "text": [
      "[1.28985976 1.09119281 1.88254607 1.64472837 0.40590329 1.76029428\n",
      " 1.84740065 0.18343577 1.27399484 0.76969285 0.48546514 1.41213932\n",
      " 0.74611266 1.38662321 0.32378078 0.08695896 0.27211392 1.96243848\n",
      " 0.96619634 0.60124344 0.01001294 0.46279788 0.87918405 1.51971108\n",
      " 1.97333646 1.74548881 1.561581   1.67548665 0.93055369 0.1864435 ]\n"
     ]
    }
   ],
   "source": [
    "dd= d.flatten()\n",
    "print(dd)"
   ]
  },
  {
   "cell_type": "code",
   "execution_count": 26,
   "metadata": {},
   "outputs": [
    {
     "name": "stdout",
     "output_type": "stream",
     "text": [
      "75\n",
      "75\n",
      "75\n",
      "75\n",
      "25\n",
      "75\n",
      "75\n",
      "25\n",
      "75\n",
      "25\n",
      "25\n",
      "75\n",
      "25\n",
      "75\n",
      "25\n",
      "25\n",
      "25\n",
      "75\n",
      "25\n",
      "25\n",
      "0\n",
      "25\n",
      "25\n",
      "75\n",
      "100\n",
      "75\n",
      "75\n",
      "75\n",
      "25\n",
      "25\n",
      "[]\n"
     ]
    }
   ],
   "source": [
    "def fil(x):\n",
    "    if x == d_max:\n",
    "        print(100)\n",
    "    if x < d_max and x >d_mean:\n",
    "        print(75)\n",
    "    if x == d_mean:\n",
    "        print(50)\n",
    "    if x == d_min:\n",
    "        print(0)\n",
    "    elif x > d_min and x < d_mean:\n",
    "        print(25)\n",
    "\n",
    "appen= list(filter(fil, dd))\n",
    "print(appen)"
   ]
  },
  {
   "cell_type": "code",
   "execution_count": 54,
   "metadata": {},
   "outputs": [],
   "source": [
    "\n",
    "f=np.where(d == d_max, 100, (np.where(d ==d_mean, 50, (np.where(d==d_min, 0, (np.where(d > d_mean, 75, 25)))))))\n",
    "\n"
   ]
  },
  {
   "cell_type": "code",
   "execution_count": 55,
   "metadata": {},
   "outputs": [
    {
     "name": "stdout",
     "output_type": "stream",
     "text": [
      "[[[ 75  75  75  75  25]\n",
      "  [ 75  75  25  75  25]\n",
      "  [ 25  75  25  75  25]]\n",
      "\n",
      " [[ 25  25  75  25  25]\n",
      "  [  0  25  25  75 100]\n",
      "  [ 75  75  75  25  25]]]\n"
     ]
    }
   ],
   "source": [
    "print(f)"
   ]
  },
  {
   "cell_type": "code",
   "execution_count": null,
   "metadata": {},
   "outputs": [],
   "source": []
  },
  {
   "cell_type": "code",
   "execution_count": null,
   "metadata": {},
   "outputs": [],
   "source": []
  }
 ],
 "metadata": {
  "kernelspec": {
   "display_name": "Python 3",
   "language": "python",
   "name": "python3"
  },
  "language_info": {
   "codemirror_mode": {
    "name": "ipython",
    "version": 3
   },
   "file_extension": ".py",
   "mimetype": "text/x-python",
   "name": "python",
   "nbconvert_exporter": "python",
   "pygments_lexer": "ipython3",
   "version": "3.8.3"
  }
 },
 "nbformat": 4,
 "nbformat_minor": 4
}
